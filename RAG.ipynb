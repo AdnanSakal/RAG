{
  "cells": [
    {
      "cell_type": "code",
      "execution_count": null,
      "id": "c97966cb-0b7e-41fe-a822-03e382ec85f6",
      "metadata": {
        "id": "c97966cb-0b7e-41fe-a822-03e382ec85f6"
      },
      "outputs": [],
      "source": [
        "from langchain_community.document_loaders import TextLoader\n",
        "from langchain.text_splitter import RecursiveCharacterTextSplitter\n",
        "from langchain.embeddings import OllamaEmbeddings\n",
        "from langchain_community.vectorstores import Chroma\n",
        "from langchain_core.prompts import ChatPromptTemplate\n",
        "from langchain_ollama import ChatOllama\n",
        "from langchain_core.runnables import RunnablePassthrough"
      ]
    },
    {
      "cell_type": "code",
      "execution_count": null,
      "id": "441d9a5d-583c-4b66-8e83-52629b4c6104",
      "metadata": {
        "id": "441d9a5d-583c-4b66-8e83-52629b4c6104"
      },
      "outputs": [],
      "source": [
        "model = ChatOllama(\n",
        "    model = \"llama3.2\")"
      ]
    },
    {
      "cell_type": "code",
      "execution_count": null,
      "id": "d72d819a-a8dd-4970-ac98-24602fe1a4e0",
      "metadata": {
        "id": "d72d819a-a8dd-4970-ac98-24602fe1a4e0"
      },
      "outputs": [],
      "source": [
        "raw_doc = TextLoader(\"./data.txt\").load()"
      ]
    },
    {
      "cell_type": "code",
      "execution_count": null,
      "id": "6bffb156-704d-468b-ba35-9152988208e0",
      "metadata": {
        "id": "6bffb156-704d-468b-ba35-9152988208e0"
      },
      "outputs": [],
      "source": [
        "text_splitter = RecursiveCharacterTextSplitter(chunk_size=300,\n",
        "chunk_overlap = 20)\n",
        "document = text_splitter.split_documents(raw_doc)"
      ]
    },
    {
      "cell_type": "code",
      "execution_count": null,
      "id": "c6b17c63-42eb-40ac-a6e9-67b333808fbf",
      "metadata": {
        "id": "c6b17c63-42eb-40ac-a6e9-67b333808fbf"
      },
      "outputs": [],
      "source": [
        "oembed = OllamaEmbeddings(model = \"nomic-embed-text\")"
      ]
    },
    {
      "cell_type": "code",
      "execution_count": null,
      "id": "a098e0da-f6ab-402c-b2a7-e4aade055244",
      "metadata": {
        "id": "a098e0da-f6ab-402c-b2a7-e4aade055244"
      },
      "outputs": [],
      "source": [
        "db = Chroma.from_documents(document,embedding = oembed)"
      ]
    },
    {
      "cell_type": "code",
      "execution_count": null,
      "id": "39c1ddbb-56ce-418d-9250-2f20b9b7a902",
      "metadata": {
        "id": "39c1ddbb-56ce-418d-9250-2f20b9b7a902"
      },
      "outputs": [],
      "source": [
        "chat_template_ = \"\"\"\n",
        "Answer the question only from the context given below nowhere else\n",
        "{context}\n",
        "question: {question}\n",
        "\"\"\"\n",
        "chat_template = ChatPromptTemplate.from_template(chat_template_)"
      ]
    },
    {
      "cell_type": "code",
      "execution_count": null,
      "id": "68671da4-0309-49c6-b22c-f72d6fa6daae",
      "metadata": {
        "id": "68671da4-0309-49c6-b22c-f72d6fa6daae"
      },
      "outputs": [],
      "source": [
        "retiver = db.as_retriever()"
      ]
    },
    {
      "cell_type": "code",
      "execution_count": null,
      "id": "91a3d883-d82c-40c7-a7f0-c905fa51eeaf",
      "metadata": {
        "id": "91a3d883-d82c-40c7-a7f0-c905fa51eeaf"
      },
      "outputs": [],
      "source": [
        "def format_docs(docs):\n",
        "    return \"\\n\\n\".join([d.page_content for d in docs])"
      ]
    },
    {
      "cell_type": "code",
      "execution_count": null,
      "id": "8ff9e39b-74e0-4150-8ac8-c97a76b6105e",
      "metadata": {
        "id": "8ff9e39b-74e0-4150-8ac8-c97a76b6105e"
      },
      "outputs": [],
      "source": [
        "chain = ({\"context\":retiver|format_docs,\"question\":RunnablePassthrough()}|chat_template|model)"
      ]
    },
    {
      "cell_type": "code",
      "execution_count": null,
      "id": "f815c1a1-a964-4698-881f-1ae89f237517",
      "metadata": {
        "id": "f815c1a1-a964-4698-881f-1ae89f237517",
        "outputId": "12455fe1-356d-429c-ca78-8f6795c771b9"
      },
      "outputs": [
        {
          "data": {
            "text/plain": [
              "'Australia.'"
            ]
          },
          "execution_count": 19,
          "metadata": {},
          "output_type": "execute_result"
        }
      ],
      "source": [
        "chain.invoke(\"what country is budgie native to\").content"
      ]
    },
    {
      "cell_type": "code",
      "execution_count": null,
      "id": "4e4a48c4-4ca6-44ea-900f-7cb5bfae067e",
      "metadata": {
        "id": "4e4a48c4-4ca6-44ea-900f-7cb5bfae067e",
        "outputId": "078e9d63-ae14-4597-a078-e400423f9640"
      },
      "outputs": [
        {
          "data": {
            "text/plain": [
              "'The colors commonly associated with budgies (budgerigars) are green, yellow, black, blues, whites, greys.'"
            ]
          },
          "execution_count": 13,
          "metadata": {},
          "output_type": "execute_result"
        }
      ],
      "source": [
        "chain.invoke(\"what are the color of budgie\").content"
      ]
    },
    {
      "cell_type": "code",
      "execution_count": null,
      "id": "0064e5df-c8d4-42fa-87bf-0386cc15e022",
      "metadata": {
        "id": "0064e5df-c8d4-42fa-87bf-0386cc15e022"
      },
      "outputs": [],
      "source": []
    }
  ],
  "metadata": {
    "kernelspec": {
      "display_name": "Python 3 (ipykernel)",
      "language": "python",
      "name": "python3"
    },
    "language_info": {
      "codemirror_mode": {
        "name": "ipython",
        "version": 3
      },
      "file_extension": ".py",
      "mimetype": "text/x-python",
      "name": "python",
      "nbconvert_exporter": "python",
      "pygments_lexer": "ipython3",
      "version": "3.12.7"
    },
    "colab": {
      "provenance": []
    }
  },
  "nbformat": 4,
  "nbformat_minor": 5
}